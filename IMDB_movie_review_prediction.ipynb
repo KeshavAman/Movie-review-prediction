{
  "nbformat": 4,
  "nbformat_minor": 0,
  "metadata": {
    "colab": {
      "name": "IMDB movie review prediction.ipynb",
      "provenance": [],
      "collapsed_sections": [],
      "authorship_tag": "ABX9TyPSlxAa2Cxx+x9fCyKgM/m+",
      "include_colab_link": true
    },
    "kernelspec": {
      "name": "python3",
      "display_name": "Python 3"
    },
    "language_info": {
      "name": "python"
    }
  },
  "cells": [
    {
      "cell_type": "markdown",
      "metadata": {
        "id": "view-in-github",
        "colab_type": "text"
      },
      "source": [
        "<a href=\"https://colab.research.google.com/github/KeshavAman/Movie-review-prediction/blob/main/IMDB_movie_review_prediction.ipynb\" target=\"_parent\"><img src=\"https://colab.research.google.com/assets/colab-badge.svg\" alt=\"Open In Colab\"/></a>"
      ]
    },
    {
      "cell_type": "markdown",
      "metadata": {
        "id": "OTp8IUCxoOrr"
      },
      "source": [
        "**Importing the libraries**\n",
        "\n"
      ]
    },
    {
      "cell_type": "code",
      "metadata": {
        "id": "mg4CcbwqOzfg"
      },
      "source": [
        "import pandas as pd\n",
        "import numpy as np\n",
        "import matplotlib.pyplot as plt\n",
        "import seaborn as sns"
      ],
      "execution_count": 1,
      "outputs": []
    },
    {
      "cell_type": "markdown",
      "metadata": {
        "id": "4ccc-l5eoWrW"
      },
      "source": [
        "**Importing dataset**"
      ]
    },
    {
      "cell_type": "code",
      "metadata": {
        "colab": {
          "base_uri": "https://localhost:8080/",
          "height": 266
        },
        "id": "Eh-V2pK9O51T",
        "outputId": "72ce4306-6568-4d9c-b61f-16f765d59e0d"
      },
      "source": [
        "dataset = pd.read_csv('https://raw.githubusercontent.com/KeshavAman/Movie-review-prediction/main/IMDB_Dataset.csv')\n",
        "dataset.head(7)"
      ],
      "execution_count": 7,
      "outputs": [
        {
          "output_type": "execute_result",
          "data": {
            "text/html": [
              "<div>\n",
              "<style scoped>\n",
              "    .dataframe tbody tr th:only-of-type {\n",
              "        vertical-align: middle;\n",
              "    }\n",
              "\n",
              "    .dataframe tbody tr th {\n",
              "        vertical-align: top;\n",
              "    }\n",
              "\n",
              "    .dataframe thead th {\n",
              "        text-align: right;\n",
              "    }\n",
              "</style>\n",
              "<table border=\"1\" class=\"dataframe\">\n",
              "  <thead>\n",
              "    <tr style=\"text-align: right;\">\n",
              "      <th></th>\n",
              "      <th>review</th>\n",
              "      <th>sentiment</th>\n",
              "    </tr>\n",
              "  </thead>\n",
              "  <tbody>\n",
              "    <tr>\n",
              "      <th>0</th>\n",
              "      <td>One of the other reviewers has mentioned that ...</td>\n",
              "      <td>positive</td>\n",
              "    </tr>\n",
              "    <tr>\n",
              "      <th>1</th>\n",
              "      <td>A wonderful little production. &lt;br /&gt;&lt;br /&gt;The...</td>\n",
              "      <td>positive</td>\n",
              "    </tr>\n",
              "    <tr>\n",
              "      <th>2</th>\n",
              "      <td>I thought this was a wonderful way to spend ti...</td>\n",
              "      <td>positive</td>\n",
              "    </tr>\n",
              "    <tr>\n",
              "      <th>3</th>\n",
              "      <td>Basically there's a family where a little boy ...</td>\n",
              "      <td>negative</td>\n",
              "    </tr>\n",
              "    <tr>\n",
              "      <th>4</th>\n",
              "      <td>Petter Mattei's \"Love in the Time of Money\" is...</td>\n",
              "      <td>positive</td>\n",
              "    </tr>\n",
              "    <tr>\n",
              "      <th>5</th>\n",
              "      <td>Probably my all-time favorite movie, a story o...</td>\n",
              "      <td>positive</td>\n",
              "    </tr>\n",
              "    <tr>\n",
              "      <th>6</th>\n",
              "      <td>I sure would like to see a resurrection of a u...</td>\n",
              "      <td>positive</td>\n",
              "    </tr>\n",
              "  </tbody>\n",
              "</table>\n",
              "</div>"
            ],
            "text/plain": [
              "                                              review sentiment\n",
              "0  One of the other reviewers has mentioned that ...  positive\n",
              "1  A wonderful little production. <br /><br />The...  positive\n",
              "2  I thought this was a wonderful way to spend ti...  positive\n",
              "3  Basically there's a family where a little boy ...  negative\n",
              "4  Petter Mattei's \"Love in the Time of Money\" is...  positive\n",
              "5  Probably my all-time favorite movie, a story o...  positive\n",
              "6  I sure would like to see a resurrection of a u...  positive"
            ]
          },
          "metadata": {
            "tags": []
          },
          "execution_count": 7
        }
      ]
    },
    {
      "cell_type": "code",
      "metadata": {
        "colab": {
          "base_uri": "https://localhost:8080/",
          "height": 111
        },
        "id": "Hcoijmr_PB62",
        "outputId": "f40dc393-ea65-4541-920c-cfca632b4801"
      },
      "source": [
        "dataset.describe().T"
      ],
      "execution_count": 8,
      "outputs": [
        {
          "output_type": "execute_result",
          "data": {
            "text/html": [
              "<div>\n",
              "<style scoped>\n",
              "    .dataframe tbody tr th:only-of-type {\n",
              "        vertical-align: middle;\n",
              "    }\n",
              "\n",
              "    .dataframe tbody tr th {\n",
              "        vertical-align: top;\n",
              "    }\n",
              "\n",
              "    .dataframe thead th {\n",
              "        text-align: right;\n",
              "    }\n",
              "</style>\n",
              "<table border=\"1\" class=\"dataframe\">\n",
              "  <thead>\n",
              "    <tr style=\"text-align: right;\">\n",
              "      <th></th>\n",
              "      <th>count</th>\n",
              "      <th>unique</th>\n",
              "      <th>top</th>\n",
              "      <th>freq</th>\n",
              "    </tr>\n",
              "  </thead>\n",
              "  <tbody>\n",
              "    <tr>\n",
              "      <th>review</th>\n",
              "      <td>2954</td>\n",
              "      <td>2954</td>\n",
              "      <td>I'm assuming the filmmakers heart was in the r...</td>\n",
              "      <td>1</td>\n",
              "    </tr>\n",
              "    <tr>\n",
              "      <th>sentiment</th>\n",
              "      <td>2954</td>\n",
              "      <td>2</td>\n",
              "      <td>positive</td>\n",
              "      <td>1486</td>\n",
              "    </tr>\n",
              "  </tbody>\n",
              "</table>\n",
              "</div>"
            ],
            "text/plain": [
              "          count unique                                                top  freq\n",
              "review     2954   2954  I'm assuming the filmmakers heart was in the r...     1\n",
              "sentiment  2954      2                                           positive  1486"
            ]
          },
          "metadata": {
            "tags": []
          },
          "execution_count": 8
        }
      ]
    },
    {
      "cell_type": "code",
      "metadata": {
        "colab": {
          "base_uri": "https://localhost:8080/"
        },
        "id": "u3bRVtf1R3GX",
        "outputId": "da1274ab-0e8c-4917-a29e-1403e7f2e0b9"
      },
      "source": [
        "print('Rows and Columns of dataset :',dataset.shape)"
      ],
      "execution_count": 9,
      "outputs": [
        {
          "output_type": "stream",
          "text": [
            "Rows and Columns of dataset : (2954, 2)\n"
          ],
          "name": "stdout"
        }
      ]
    },
    {
      "cell_type": "markdown",
      "metadata": {
        "id": "kKcVxujgoeAk"
      },
      "source": [
        "**Checking and Dropping null values**"
      ]
    },
    {
      "cell_type": "code",
      "metadata": {
        "colab": {
          "base_uri": "https://localhost:8080/"
        },
        "id": "OjTLGe5gSJrM",
        "outputId": "6c123a2e-5e4c-4af4-97e3-72ae1e400a70"
      },
      "source": [
        "dataset.isnull().sum()"
      ],
      "execution_count": 10,
      "outputs": [
        {
          "output_type": "execute_result",
          "data": {
            "text/plain": [
              "review       0\n",
              "sentiment    0\n",
              "dtype: int64"
            ]
          },
          "metadata": {
            "tags": []
          },
          "execution_count": 10
        }
      ]
    },
    {
      "cell_type": "code",
      "metadata": {
        "colab": {
          "base_uri": "https://localhost:8080/"
        },
        "id": "b8dZBmv_SPf4",
        "outputId": "1085c67e-c616-4773-f3f2-8794210d6e9a"
      },
      "source": [
        "dataset = dataset.dropna(axis = 1)\n",
        "dataset.shape"
      ],
      "execution_count": 11,
      "outputs": [
        {
          "output_type": "execute_result",
          "data": {
            "text/plain": [
              "(2954, 2)"
            ]
          },
          "metadata": {
            "tags": []
          },
          "execution_count": 11
        }
      ]
    },
    {
      "cell_type": "markdown",
      "metadata": {
        "id": "aJqR0MNJomSH"
      },
      "source": [
        "**Value count**"
      ]
    },
    {
      "cell_type": "code",
      "metadata": {
        "colab": {
          "base_uri": "https://localhost:8080/"
        },
        "id": "zbofi5RRSVnM",
        "outputId": "a5c4cc69-7299-488d-b0ad-9de214614d8e"
      },
      "source": [
        "dataset['sentiment'].value_counts()"
      ],
      "execution_count": 12,
      "outputs": [
        {
          "output_type": "execute_result",
          "data": {
            "text/plain": [
              "positive    1486\n",
              "negative    1468\n",
              "Name: sentiment, dtype: int64"
            ]
          },
          "metadata": {
            "tags": []
          },
          "execution_count": 12
        }
      ]
    },
    {
      "cell_type": "markdown",
      "metadata": {
        "id": "_SrTTAygorSr"
      },
      "source": [
        "**Visualize the value count**"
      ]
    },
    {
      "cell_type": "code",
      "metadata": {
        "colab": {
          "base_uri": "https://localhost:8080/",
          "height": 350
        },
        "id": "HTm6UG3ZSh4I",
        "outputId": "4d628565-a4b8-4449-d204-12d1a76112d7"
      },
      "source": [
        "sns.countplot(dataset['sentiment'], label = 'count')"
      ],
      "execution_count": 13,
      "outputs": [
        {
          "output_type": "stream",
          "text": [
            "/usr/local/lib/python3.7/dist-packages/seaborn/_decorators.py:43: FutureWarning: Pass the following variable as a keyword arg: x. From version 0.12, the only valid positional argument will be `data`, and passing other arguments without an explicit keyword will result in an error or misinterpretation.\n",
            "  FutureWarning\n"
          ],
          "name": "stderr"
        },
        {
          "output_type": "execute_result",
          "data": {
            "text/plain": [
              "<matplotlib.axes._subplots.AxesSubplot at 0x7f275cbd5410>"
            ]
          },
          "metadata": {
            "tags": []
          },
          "execution_count": 13
        },
        {
          "output_type": "display_data",
          "data": {
            "image/png": "[encoded data removed]",
            "text/plain": [
              "<Figure size 432x288 with 1 Axes>"
            ]
          },
          "metadata": {
            "tags": [],
            "needs_background": "light"
          }
        }
      ]
    },
    {
      "cell_type": "markdown",
      "metadata": {
        "id": "VU3jZXISoxPx"
      },
      "source": [
        "**Preprocessing of dataset**"
      ]
    },
    {
      "cell_type": "code",
      "metadata": {
        "id": "Q_c3UjuCSxGE"
      },
      "source": [
        "from sklearn.preprocessing import LabelEncoder\n",
        "\n",
        "label = LabelEncoder()\n",
        "dataset['sentiment'] = label.fit_transform(dataset['sentiment'])"
      ],
      "execution_count": 17,
      "outputs": []
    },
    {
      "cell_type": "markdown",
      "metadata": {
        "id": "MJlDR-FBo21l"
      },
      "source": [
        "**Value count after preprocessing**"
      ]
    },
    {
      "cell_type": "code",
      "metadata": {
        "colab": {
          "base_uri": "https://localhost:8080/"
        },
        "id": "fC_EyJLaUM5c",
        "outputId": "c3e66674-97a2-4d52-e3cc-28291997daaa"
      },
      "source": [
        "dataset['sentiment'].value_counts()"
      ],
      "execution_count": 18,
      "outputs": [
        {
          "output_type": "execute_result",
          "data": {
            "text/plain": [
              "1    1486\n",
              "0    1468\n",
              "Name: sentiment, dtype: int64"
            ]
          },
          "metadata": {
            "tags": []
          },
          "execution_count": 18
        }
      ]
    },
    {
      "cell_type": "markdown",
      "metadata": {
        "id": "wTA4M3bIo-g6"
      },
      "source": [
        "**Using CountVectorizer to convert text into tokens/features**"
      ]
    },
    {
      "cell_type": "code",
      "metadata": {
        "id": "GIcxfqzWgewo"
      },
      "source": [
        "from sklearn.feature_extraction.text import CountVectorizer\n",
        "\n",
        "vect = CountVectorizer(stop_words='english', ngram_range = (1,1), max_df = .80, min_df = 4)"
      ],
      "execution_count": 37,
      "outputs": []
    },
    {
      "cell_type": "markdown",
      "metadata": {
        "id": "Eo2JoIwHpci6"
      },
      "source": [
        "**Splitting of dataset**"
      ]
    },
    {
      "cell_type": "code",
      "metadata": {
        "id": "-mtwhIXRURnf"
      },
      "source": [
        "from sklearn.model_selection import train_test_split\n",
        "\n",
        "X = dataset.review\n",
        "y = dataset.sentiment\n",
        "X_train, X_test, y_train, y_test = train_test_split(X,y,random_state=1, test_size= 0.2)"
      ],
      "execution_count": 39,
      "outputs": []
    },
    {
      "cell_type": "markdown",
      "metadata": {
        "id": "2aFkmUJjpWBJ"
      },
      "source": [
        "**Using training data to transform text into counts of features for each message**"
      ]
    },
    {
      "cell_type": "code",
      "metadata": {
        "id": "6lumOs4uUYB6"
      },
      "source": [
        "vect.fit(X_train)\n",
        "X_train = vect.transform(X_train) \n",
        "X_test = vect.transform(X_test)"
      ],
      "execution_count": 40,
      "outputs": []
    },
    {
      "cell_type": "markdown",
      "metadata": {
        "id": "VVsttn6FphP3"
      },
      "source": [
        "**Dimensions**"
      ]
    },
    {
      "cell_type": "code",
      "metadata": {
        "colab": {
          "base_uri": "https://localhost:8080/"
        },
        "id": "bqsXJ3Crhw_J",
        "outputId": "724114a6-ac19-4f45-dd3f-138f74895858"
      },
      "source": [
        "print(\"X_train shape : \",X_train.shape)\n",
        "print(\"X_test shape : \",X_test.shape)\n",
        "print(\"Y_train shape : \",Y_train.shape)\n",
        "print(\"Y_test shape : \",Y_test.shape)"
      ],
      "execution_count": 47,
      "outputs": [
        {
          "output_type": "stream",
          "text": [
            "X_train shape :  (2363, 7831)\n",
            "X_test shape :  (591, 7831)\n",
            "Y_train shape :  (1477,)\n",
            "Y_test shape :  (1477,)\n"
          ],
          "name": "stdout"
        }
      ]
    },
    {
      "cell_type": "markdown",
      "metadata": {
        "id": "2_ywL1Trpky7"
      },
      "source": [
        "**Using Naive Bayes ( MultinomialNB )**"
      ]
    },
    {
      "cell_type": "code",
      "metadata": {
        "id": "genmTmvdeTlh"
      },
      "source": [
        "from sklearn.naive_bayes import MultinomialNB\n",
        "\n",
        "nb = MultinomialNB()\n",
        "nb.fit(X_train, y_train)\n",
        "y_pred = nb.predict(X_test)"
      ],
      "execution_count": 54,
      "outputs": []
    },
    {
      "cell_type": "code",
      "metadata": {
        "colab": {
          "base_uri": "https://localhost:8080/"
        },
        "id": "xJLeOBzEhOKJ",
        "outputId": "ba159d9d-a4c4-4590-aa61-26aea60c411e"
      },
      "source": [
        "from sklearn.metrics import confusion_matrix, recall_score, precision_score, f1_score, accuracy_score\n",
        "\n",
        "print('Accuracy score : ',accuracy_score(y_test, y_pred)*100)\n",
        "print('Precision Score : ',precision_score(y_test, y_pred)*100)\n",
        "print('Recall Score : ',recall_score(y_test, y_pred)*100)\n",
        "print('F1 score : ',f1_score(y_test, y_pred)*100)\n",
        "print('Confusion Matrix: ',metrics.confusion_matrix(y_test,y_pred), sep = '\\n')"
      ],
      "execution_count": 57,
      "outputs": [
        {
          "output_type": "stream",
          "text": [
            "Accuracy score :  81.89509306260575\n",
            "Precision Score :  80.98591549295774\n",
            "Recall Score :  81.2720848056537\n",
            "F1 score :  81.12874779541447\n",
            "Confusion Matrix: \n",
            "[[254  54]\n",
            " [ 53 230]]\n"
          ],
          "name": "stdout"
        }
      ]
    },
    {
      "cell_type": "markdown",
      "metadata": {
        "id": "fjamX-FKpupr"
      },
      "source": [
        "**Using Logistic Regression**"
      ]
    },
    {
      "cell_type": "code",
      "metadata": {
        "id": "-y3ii9xRhcOp"
      },
      "source": [
        "from sklearn.linear_model import LogisticRegression\n",
        "\n",
        "LR = LogisticRegression()\n",
        "LR.fit(X_train, y_train)\n",
        "y_pred = LR.predict(X_test)"
      ],
      "execution_count": 59,
      "outputs": []
    },
    {
      "cell_type": "code",
      "metadata": {
        "colab": {
          "base_uri": "https://localhost:8080/"
        },
        "id": "6yaVmmCmlSHu",
        "outputId": "cfa202cf-b9da-408c-9992-f5380ca3af9e"
      },
      "source": [
        "from sklearn.metrics import confusion_matrix, recall_score, precision_score, f1_score, accuracy_score\n",
        "\n",
        "print('Accuracy score : ',accuracy_score(y_test, y_pred)*100)\n",
        "print('Precision Score : ',precision_score(y_test, y_pred)*100)\n",
        "print('Recall Score : ',recall_score(y_test, y_pred)*100)\n",
        "print('F1 score : ',f1_score(y_test, y_pred)*100)\n",
        "print('Confusion Matrix: ',metrics.confusion_matrix(y_test,y_pred), sep = '\\n')"
      ],
      "execution_count": 60,
      "outputs": [
        {
          "output_type": "stream",
          "text": [
            "Accuracy score :  86.46362098138748\n",
            "Precision Score :  83.94648829431438\n",
            "Recall Score :  88.69257950530034\n",
            "F1 score :  86.25429553264604\n",
            "Confusion Matrix: \n",
            "[[260  48]\n",
            " [ 32 251]]\n"
          ],
          "name": "stdout"
        }
      ]
    },
    {
      "cell_type": "markdown",
      "metadata": {
        "id": "AltzP3jFpzZf"
      },
      "source": [
        "**Using Support Vector Classifier ( LinearSVC )**"
      ]
    },
    {
      "cell_type": "code",
      "metadata": {
        "id": "9E8r30VxlsmD"
      },
      "source": [
        "from sklearn.svm import SVC, LinearSVC\n",
        "\n",
        "SVM = LinearSVC()\n",
        "SVM.fit(X_train, y_train)\n",
        "y_pred = SVM.predict(X_test)"
      ],
      "execution_count": 62,
      "outputs": []
    },
    {
      "cell_type": "code",
      "metadata": {
        "colab": {
          "base_uri": "https://localhost:8080/"
        },
        "id": "uw1y-28pl736",
        "outputId": "bfbac130-dfee-4a57-b3ab-b49e3ea27e8a"
      },
      "source": [
        "from sklearn.metrics import confusion_matrix, recall_score, precision_score, f1_score, accuracy_score\n",
        "\n",
        "print('Accuracy score : ',accuracy_score(y_test, y_pred)*100)\n",
        "print('Precision Score : ',precision_score(y_test, y_pred)*100)\n",
        "print('Recall Score : ',recall_score(y_test, y_pred)*100)\n",
        "print('F1 score : ',f1_score(y_test, y_pred)*100)\n",
        "print('Confusion Matrix: ',metrics.confusion_matrix(y_test,y_pred), sep = '\\n')"
      ],
      "execution_count": 63,
      "outputs": [
        {
          "output_type": "stream",
          "text": [
            "Accuracy score :  84.77157360406092\n",
            "Precision Score :  82.93515358361775\n",
            "Recall Score :  85.86572438162544\n",
            "F1 score :  84.375\n",
            "Confusion Matrix: \n",
            "[[258  50]\n",
            " [ 40 243]]\n"
          ],
          "name": "stdout"
        }
      ]
    },
    {
      "cell_type": "markdown",
      "metadata": {
        "id": "-e4UWzFRp8au"
      },
      "source": [
        "**Using Support Vector Classifier**"
      ]
    },
    {
      "cell_type": "code",
      "metadata": {
        "id": "Bp6ZcxFimCwy"
      },
      "source": [
        "from sklearn.svm import SVC\n",
        "\n",
        "SVC = SVC()\n",
        "SVC.fit(X_train, y_train)\n",
        "y_pred = SVC.predict(X_test)"
      ],
      "execution_count": 64,
      "outputs": []
    },
    {
      "cell_type": "code",
      "metadata": {
        "colab": {
          "base_uri": "https://localhost:8080/"
        },
        "id": "cblvEj9mmOXQ",
        "outputId": "bd1c05c9-7d74-49de-81fe-27768bf640a9"
      },
      "source": [
        "from sklearn.metrics import confusion_matrix, recall_score, precision_score, f1_score, accuracy_score\n",
        "\n",
        "print('Accuracy score : ',accuracy_score(y_test, y_pred)*100)\n",
        "print('Precision Score : ',precision_score(y_test, y_pred)*100)\n",
        "print('Recall Score : ',recall_score(y_test, y_pred)*100)\n",
        "print('F1 score : ',f1_score(y_test, y_pred)*100)\n",
        "print('Confusion Matrix: ',metrics.confusion_matrix(y_test,y_pred), sep = '\\n')"
      ],
      "execution_count": 65,
      "outputs": [
        {
          "output_type": "stream",
          "text": [
            "Accuracy score :  82.40270727580372\n",
            "Precision Score :  78.77813504823152\n",
            "Recall Score :  86.57243816254417\n",
            "F1 score :  82.49158249158249\n",
            "Confusion Matrix: \n",
            "[[242  66]\n",
            " [ 38 245]]\n"
          ],
          "name": "stdout"
        }
      ]
    },
    {
      "cell_type": "markdown",
      "metadata": {
        "id": "c_EDM_yhqCR-"
      },
      "source": [
        "**Using KNN**"
      ]
    },
    {
      "cell_type": "code",
      "metadata": {
        "id": "drXZyboymRy0"
      },
      "source": [
        "from sklearn.neighbors import KNeighborsClassifier\n",
        "\n",
        "KNN = KNeighborsClassifier(n_neighbors = 5)\n",
        "KNN.fit(X_train, y_train)\n",
        "y_pred = KNN.predict(X_test)"
      ],
      "execution_count": 72,
      "outputs": []
    },
    {
      "cell_type": "code",
      "metadata": {
        "colab": {
          "base_uri": "https://localhost:8080/"
        },
        "id": "ar-ZGj8Tmktw",
        "outputId": "774402ec-b4ef-4173-fac1-ed6086393b4e"
      },
      "source": [
        "from sklearn.metrics import confusion_matrix, recall_score, precision_score, f1_score, accuracy_score\n",
        "\n",
        "print('Accuracy score : ',accuracy_score(y_test, y_pred)*100)\n",
        "print('Precision Score : ',precision_score(y_test, y_pred)*100)\n",
        "print('Recall Score : ',recall_score(y_test, y_pred)*100)\n",
        "print('F1 score : ',f1_score(y_test, y_pred)*100)\n",
        "print('Confusion Matrix: ',metrics.confusion_matrix(y_test,y_pred), sep = '\\n')"
      ],
      "execution_count": 73,
      "outputs": [
        {
          "output_type": "stream",
          "text": [
            "Accuracy score :  58.03722504230119\n",
            "Precision Score :  54.74254742547425\n",
            "Recall Score :  71.37809187279152\n",
            "F1 score :  61.963190184049076\n",
            "Confusion Matrix: \n",
            "[[141 167]\n",
            " [ 81 202]]\n"
          ],
          "name": "stdout"
        }
      ]
    },
    {
      "cell_type": "markdown",
      "metadata": {
        "id": "dfyt_2GMqFiU"
      },
      "source": [
        "**Using Random Forest Classifier**"
      ]
    },
    {
      "cell_type": "code",
      "metadata": {
        "id": "w8bmXPl9mln5"
      },
      "source": [
        "from sklearn.ensemble import RandomForestClassifier\n",
        "\n",
        "RFC = RandomForestClassifier(n_estimators=200)\n",
        "RFC.fit(X_train, y_train)\n",
        "y_pred = RFC.predict(X_test)"
      ],
      "execution_count": 76,
      "outputs": []
    },
    {
      "cell_type": "code",
      "metadata": {
        "colab": {
          "base_uri": "https://localhost:8080/"
        },
        "id": "SlRDwKAom4H6",
        "outputId": "fc2667b1-47e7-4c42-815d-ee08c3c73245"
      },
      "source": [
        "from sklearn.metrics import confusion_matrix, recall_score, precision_score, f1_score, accuracy_score\n",
        "\n",
        "print('Accuracy score : ',accuracy_score(y_test, y_pred)*100)\n",
        "print('Precision Score : ',precision_score(y_test, y_pred)*100)\n",
        "print('Recall Score : ',recall_score(y_test, y_pred)*100)\n",
        "print('F1 score : ',f1_score(y_test, y_pred)*100)\n",
        "print('Confusion Matrix: ',metrics.confusion_matrix(y_test,y_pred), sep = '\\n')"
      ],
      "execution_count": 77,
      "outputs": [
        {
          "output_type": "stream",
          "text": [
            "Accuracy score :  82.57191201353638\n",
            "Precision Score :  80.20134228187919\n",
            "Recall Score :  84.45229681978799\n",
            "F1 score :  82.27194492254733\n",
            "Confusion Matrix: \n",
            "[[249  59]\n",
            " [ 44 239]]\n"
          ],
          "name": "stdout"
        }
      ]
    },
    {
      "cell_type": "markdown",
      "metadata": {
        "id": "1qlMGnOfqLRM"
      },
      "source": [
        "**Using Decision Tree Classifier**"
      ]
    },
    {
      "cell_type": "code",
      "metadata": {
        "id": "I5leEw2Um7Sr"
      },
      "source": [
        "from sklearn.tree import DecisionTreeClassifier\n",
        "\n",
        "DTC = DecisionTreeClassifier(criterion = 'entropy', random_state = 0)\n",
        "DTC.fit(X_train, y_train)\n",
        "y_pred = DTC.predict(X_test)"
      ],
      "execution_count": 78,
      "outputs": []
    },
    {
      "cell_type": "code",
      "metadata": {
        "colab": {
          "base_uri": "https://localhost:8080/"
        },
        "id": "Ei333rneoFOe",
        "outputId": "1b10a2e2-e91e-4579-a853-2875c6661826"
      },
      "source": [
        "from sklearn.metrics import confusion_matrix, recall_score, precision_score, f1_score, accuracy_score\n",
        "\n",
        "print('Accuracy score : ',accuracy_score(y_test, y_pred)*100)\n",
        "print('Precision Score : ',precision_score(y_test, y_pred)*100)\n",
        "print('Recall Score : ',recall_score(y_test, y_pred)*100)\n",
        "print('F1 score : ',f1_score(y_test, y_pred)*100)\n",
        "print('Confusion Matrix: ',metrics.confusion_matrix(y_test,y_pred), sep = '\\n')"
      ],
      "execution_count": 79,
      "outputs": [
        {
          "output_type": "stream",
          "text": [
            "Accuracy score :  70.38917089678512\n",
            "Precision Score :  67.53246753246754\n",
            "Recall Score :  73.4982332155477\n",
            "F1 score :  70.3891708967851\n",
            "Confusion Matrix: \n",
            "[[208 100]\n",
            " [ 75 208]]\n"
          ],
          "name": "stdout"
        }
      ]
    },
    {
      "cell_type": "code",
      "metadata": {
        "id": "IoudebhXoHki"
      },
      "source": [
        ""
      ],
      "execution_count": null,
      "outputs": []
    }
  ]
}